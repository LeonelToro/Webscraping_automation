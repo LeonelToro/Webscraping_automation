{
 "cells": [
  {
   "cell_type": "code",
   "execution_count": null,
   "id": "18c74166",
   "metadata": {},
   "outputs": [],
   "source": [
    "import pandas as pd\n",
    "from pathlib import Path\n",
    "\n",
    "carpeta = Path(r'C:\\Users\\primo\\Desktop\\Ciencia de Datos\\Proyectos\\Open\\URL productos herrafe')\n",
    "archivos = carpeta.glob('*.xlsx')\n",
    "df_concatenado = pd.concat((pd.read_excel(archivo) for archivo in archivos), ignore_index=True)"
   ]
  },
  {
   "cell_type": "code",
   "execution_count": 4,
   "id": "65912925",
   "metadata": {},
   "outputs": [],
   "source": [
    "df_concatenado.to_excel(r'C:\\Users\\primo\\Desktop\\Ciencia de Datos\\Proyectos\\Open\\URL productos herrafe\\URL productos.xlsx', index=False)"
   ]
  },
  {
   "cell_type": "code",
   "execution_count": 6,
   "id": "70a2469b",
   "metadata": {},
   "outputs": [
    {
     "data": {
      "text/html": [
       "<div>\n",
       "<style scoped>\n",
       "    .dataframe tbody tr th:only-of-type {\n",
       "        vertical-align: middle;\n",
       "    }\n",
       "\n",
       "    .dataframe tbody tr th {\n",
       "        vertical-align: top;\n",
       "    }\n",
       "\n",
       "    .dataframe thead th {\n",
       "        text-align: right;\n",
       "    }\n",
       "</style>\n",
       "<table border=\"1\" class=\"dataframe\">\n",
       "  <thead>\n",
       "    <tr style=\"text-align: right;\">\n",
       "      <th></th>\n",
       "      <th>Producto</th>\n",
       "      <th>url_imagen</th>\n",
       "    </tr>\n",
       "  </thead>\n",
       "  <tbody>\n",
       "    <tr>\n",
       "      <th>0</th>\n",
       "      <td>Candex 116 cerradura de seguridad frente corto...</td>\n",
       "      <td>https://www.herrafe.com/nximages/formato-258/w...</td>\n",
       "    </tr>\n",
       "    <tr>\n",
       "      <th>1</th>\n",
       "      <td>Prive 208 cerradura de seguridad frente largo ...</td>\n",
       "      <td>https://www.herrafe.com/nximages/formato-258/w...</td>\n",
       "    </tr>\n",
       "    <tr>\n",
       "      <th>2</th>\n",
       "      <td>Cerradura pomo inoxidable orbit D10</td>\n",
       "      <td>https://www.herrafe.com/nximages/formato-258/w...</td>\n",
       "    </tr>\n",
       "    <tr>\n",
       "      <th>3</th>\n",
       "      <td>Prive 207 cerradura de seguridad frente corto ...</td>\n",
       "      <td>https://www.herrafe.com/nximages/formato-258/w...</td>\n",
       "    </tr>\n",
       "    <tr>\n",
       "      <th>4</th>\n",
       "      <td>Prive 200 cerradura de seguridad 4 combinacion...</td>\n",
       "      <td>https://www.herrafe.com/nximages/formato-258/w...</td>\n",
       "    </tr>\n",
       "  </tbody>\n",
       "</table>\n",
       "</div>"
      ],
      "text/plain": [
       "                                            Producto  \\\n",
       "0  Candex 116 cerradura de seguridad frente corto...   \n",
       "1  Prive 208 cerradura de seguridad frente largo ...   \n",
       "2                Cerradura pomo inoxidable orbit D10   \n",
       "3  Prive 207 cerradura de seguridad frente corto ...   \n",
       "4  Prive 200 cerradura de seguridad 4 combinacion...   \n",
       "\n",
       "                                          url_imagen  \n",
       "0  https://www.herrafe.com/nximages/formato-258/w...  \n",
       "1  https://www.herrafe.com/nximages/formato-258/w...  \n",
       "2  https://www.herrafe.com/nximages/formato-258/w...  \n",
       "3  https://www.herrafe.com/nximages/formato-258/w...  \n",
       "4  https://www.herrafe.com/nximages/formato-258/w...  "
      ]
     },
     "execution_count": 6,
     "metadata": {},
     "output_type": "execute_result"
    }
   ],
   "source": [
    "df_imagen = pd.read_excel(r'C:\\Users\\primo\\Desktop\\Ciencia de Datos\\Proyectos\\Open\\URL Imagen productos.xlsx')\n",
    "df_imagen.head()"
   ]
  },
  {
   "cell_type": "code",
   "execution_count": 12,
   "id": "3747daaf",
   "metadata": {},
   "outputs": [],
   "source": [
    "df_final = df_concatenado.merge(df_imagen, on='Producto', how='left')"
   ]
  },
  {
   "cell_type": "code",
   "execution_count": 13,
   "id": "eb8959c5",
   "metadata": {},
   "outputs": [
    {
     "data": {
      "text/html": [
       "<div>\n",
       "<style scoped>\n",
       "    .dataframe tbody tr th:only-of-type {\n",
       "        vertical-align: middle;\n",
       "    }\n",
       "\n",
       "    .dataframe tbody tr th {\n",
       "        vertical-align: top;\n",
       "    }\n",
       "\n",
       "    .dataframe thead th {\n",
       "        text-align: right;\n",
       "    }\n",
       "</style>\n",
       "<table border=\"1\" class=\"dataframe\">\n",
       "  <thead>\n",
       "    <tr style=\"text-align: right;\">\n",
       "      <th></th>\n",
       "      <th>Producto</th>\n",
       "      <th>URL Producto</th>\n",
       "      <th>url_imagen</th>\n",
       "    </tr>\n",
       "  </thead>\n",
       "  <tbody>\n",
       "    <tr>\n",
       "      <th>0</th>\n",
       "      <td>Candex 116 cerradura de seguridad frente corto...</td>\n",
       "      <td>https://www.herrafe.com/producto/nx-91-candex-...</td>\n",
       "      <td>https://www.herrafe.com/nximages/formato-258/w...</td>\n",
       "    </tr>\n",
       "    <tr>\n",
       "      <th>1</th>\n",
       "      <td>Cerradura pomo inoxidable orbit D10</td>\n",
       "      <td>https://www.herrafe.com/producto/nx-20920-cerr...</td>\n",
       "      <td>https://www.herrafe.com/nximages/formato-258/w...</td>\n",
       "    </tr>\n",
       "    <tr>\n",
       "      <th>2</th>\n",
       "      <td>Cerradura pomo inoxidable orbit D10</td>\n",
       "      <td>https://www.herrafe.com/producto/nx-20920-cerr...</td>\n",
       "      <td>https://www.herrafe.com/nximages/formato-258/w...</td>\n",
       "    </tr>\n",
       "    <tr>\n",
       "      <th>3</th>\n",
       "      <td>Pasador de arrimar con llave cruz reforzado co...</td>\n",
       "      <td>https://www.herrafe.com/producto/nx-28014-pasa...</td>\n",
       "      <td>https://www.herrafe.com/nximages/formato-258/w...</td>\n",
       "    </tr>\n",
       "    <tr>\n",
       "      <th>4</th>\n",
       "      <td>Candex 117 cerradura de seguridad 4 combinacio...</td>\n",
       "      <td>https://www.herrafe.com/producto/nx-15926-cand...</td>\n",
       "      <td>https://www.herrafe.com/nximages/formato-258/w...</td>\n",
       "    </tr>\n",
       "  </tbody>\n",
       "</table>\n",
       "</div>"
      ],
      "text/plain": [
       "                                            Producto  \\\n",
       "0  Candex 116 cerradura de seguridad frente corto...   \n",
       "1                Cerradura pomo inoxidable orbit D10   \n",
       "2                Cerradura pomo inoxidable orbit D10   \n",
       "3  Pasador de arrimar con llave cruz reforzado co...   \n",
       "4  Candex 117 cerradura de seguridad 4 combinacio...   \n",
       "\n",
       "                                        URL Producto  \\\n",
       "0  https://www.herrafe.com/producto/nx-91-candex-...   \n",
       "1  https://www.herrafe.com/producto/nx-20920-cerr...   \n",
       "2  https://www.herrafe.com/producto/nx-20920-cerr...   \n",
       "3  https://www.herrafe.com/producto/nx-28014-pasa...   \n",
       "4  https://www.herrafe.com/producto/nx-15926-cand...   \n",
       "\n",
       "                                          url_imagen  \n",
       "0  https://www.herrafe.com/nximages/formato-258/w...  \n",
       "1  https://www.herrafe.com/nximages/formato-258/w...  \n",
       "2  https://www.herrafe.com/nximages/formato-258/w...  \n",
       "3  https://www.herrafe.com/nximages/formato-258/w...  \n",
       "4  https://www.herrafe.com/nximages/formato-258/w...  "
      ]
     },
     "execution_count": 13,
     "metadata": {},
     "output_type": "execute_result"
    }
   ],
   "source": [
    "df_final.head()"
   ]
  },
  {
   "cell_type": "code",
   "execution_count": null,
   "id": "88047ed9",
   "metadata": {},
   "outputs": [],
   "source": [
    "df_final.to_excel(r'C:\\Users\\primo\\Desktop\\Ciencia de Datos\\Proyectos\\Open\\Productos Herrafe.xlsx', index=False)"
   ]
  }
 ],
 "metadata": {
  "kernelspec": {
   "display_name": "base",
   "language": "python",
   "name": "python3"
  },
  "language_info": {
   "codemirror_mode": {
    "name": "ipython",
    "version": 3
   },
   "file_extension": ".py",
   "mimetype": "text/x-python",
   "name": "python",
   "nbconvert_exporter": "python",
   "pygments_lexer": "ipython3",
   "version": "3.12.7"
  }
 },
 "nbformat": 4,
 "nbformat_minor": 5
}
